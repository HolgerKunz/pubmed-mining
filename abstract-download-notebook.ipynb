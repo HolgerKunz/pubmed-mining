{
 "cells": [
  {
   "cell_type": "code",
   "execution_count": 1,
   "metadata": {
    "collapsed": true
   },
   "outputs": [],
   "source": [
    "import untangle\n",
    "import time"
   ]
  },
  {
   "cell_type": "code",
   "execution_count": 2,
   "metadata": {
    "collapsed": true
   },
   "outputs": [],
   "source": [
    "url_query_base = 'https://eutils.ncbi.nlm.nih.gov/entrez/eutils/esearch.fcgi'\n",
    "url_query_pubmed = url_query_base + '?db=pubmed&term={}&mindate={}&maxdate={}&retstart={}&retmax={}'\n",
    "\n",
    "url_fetch_base = 'https://eutils.ncbi.nlm.nih.gov/entrez/eutils/efetch.fcgi'\n",
    "url_fetch_abstract = url_fetch_base + '?db=pubmed&id={}&retmode=xml'"
   ]
  },
  {
   "cell_type": "code",
   "execution_count": 3,
   "metadata": {
    "collapsed": true
   },
   "outputs": [],
   "source": [
    "query_step_size = 100\n",
    "query_term = 'nature[journal]'\n",
    "min_date = '2015/01/01'\n",
    "max_date = '2015/12/31'\n"
   ]
  },
  {
   "cell_type": "code",
   "execution_count": 9,
   "metadata": {
    "collapsed": false
   },
   "outputs": [
    {
     "name": "stdout",
     "output_type": "stream",
     "text": [
      "processing 1...\n",
      "Current number of abstracts: 31\n",
      "processing 101...\n",
      "Current number of abstracts: 67\n",
      "processing 201...\n",
      "Current number of abstracts: 91\n",
      "processing 301...\n",
      "Current number of abstracts: 134\n",
      "processing 401...\n",
      "Current number of abstracts: 155\n",
      "processing 501...\n",
      "Current number of abstracts: 190\n",
      "processing 601...\n",
      "Current number of abstracts: 221\n",
      "processing 701...\n",
      "Current number of abstracts: 255\n",
      "processing 801...\n",
      "Current number of abstracts: 288\n",
      "processing 901...\n",
      "Current number of abstracts: 327\n",
      "processing 1001...\n",
      "Current number of abstracts: 366\n",
      "processing 1101...\n",
      "Current number of abstracts: 392\n",
      "processing 1201...\n",
      "Current number of abstracts: 427\n",
      "processing 1301...\n",
      "Current number of abstracts: 461\n",
      "processing 1401...\n",
      "Current number of abstracts: 490\n",
      "processing 1501...\n",
      "Current number of abstracts: 520\n",
      "processing 1601...\n",
      "Current number of abstracts: 550\n",
      "processing 1701...\n",
      "Current number of abstracts: 586\n",
      "processing 1801...\n",
      "Current number of abstracts: 618\n",
      "processing 1901...\n",
      "Current number of abstracts: 654\n",
      "processing 2001...\n",
      "Current number of abstracts: 683\n",
      "processing 2101...\n",
      "Current number of abstracts: 726\n",
      "processing 2201...\n",
      "Current number of abstracts: 763\n",
      "processing 2301...\n",
      "Current number of abstracts: 802\n",
      "processing 2401...\n",
      "Current number of abstracts: 821\n"
     ]
    }
   ],
   "source": [
    "start_ind = 1\n",
    "article_id_all = ''\n",
    "url_query_subset = url_query_pubmed.format(query_term, min_date, max_date, start_ind, query_step_size)\n",
    "\n",
    "abstracts = []\n",
    "rec_count = 1000  # initial record count, any number larger than start_ind is ok.\n",
    "while start_ind <= rec_count:\n",
    "    print 'processing {}...'.format(start_ind)\n",
    "    \n",
    "    # query pubmed for article id's\n",
    "    time.sleep(0.34)\n",
    "    url_query_subset = url_query_pubmed.format(query_term, min_date, max_date, start_ind, query_step_size)\n",
    "    xml_result = untangle.parse(url_query_subset)\n",
    "    rec_count = int(xml_result.eSearchResult.Count.cdata)\n",
    "    start_ind = start_ind + query_step_size\n",
    "    \n",
    "    # extract article id's from query result\n",
    "    article_id = ','.join([x.cdata for x in xml_result.eSearchResult.IdList.Id])\n",
    "    article_id_all = article_id_all + article_id\n",
    "    \n",
    "    # query pubmed for abstracts using article id's\n",
    "    abstract_xml = untangle.parse(url_fetch_abstract.format(article_id))\n",
    "    \n",
    "    # Get abstract for each paper\n",
    "    count_abstract = len(abstract_xml.PubmedArticleSet.PubmedArticle)\n",
    "    for i in range(0, count_abstract):\n",
    "        # if abstract exists, add to the abstract list\n",
    "        elements = [x._name for x in abstract_xml.PubmedArticleSet.PubmedArticle[i].MedlineCitation.Article.children]\n",
    "        if 'Abstract' in elements:\n",
    "            abstract_string = abstract_xml.PubmedArticleSet.PubmedArticle[i].MedlineCitation.Article.Abstract.AbstractText.cdata\n",
    "            abstracts.append(abstract_string)\n",
    "    print 'Current number of abstracts: ' + str(len(abstracts))"
   ]
  },
  {
   "cell_type": "code",
   "execution_count": 8,
   "metadata": {
    "collapsed": false
   },
   "outputs": [
    {
     "data": {
      "text/plain": [
       "'134'"
      ]
     },
     "execution_count": 8,
     "metadata": {},
     "output_type": "execute_result"
    }
   ],
   "source": [
    "str(len(abstracts))"
   ]
  },
  {
   "cell_type": "code",
   "execution_count": 7,
   "metadata": {
    "collapsed": false
   },
   "outputs": [
    {
     "data": {
      "text/plain": [
       "u'26701060,26701059,26701058,26701056,26701055,26701054,26701053,26701052,26701051,26701050,26701049,26701048,26701047,26701046,26701045,26701044,26701043,26701042,26701039,26701038,26701037,26701036,26701034,26701033,26701032,26701031,26701030,26701018,26701017,26701016,26701015,26700815,26700814,26700813,26700812,26700811,26700810,26700809,26700808,26700807,26700806,26700805,26689365,26689364,26689363,26682340,26677466,26675736,26675735,26675734,26675733,26675732,26675731,26675730,26675729,26675728,26675727,26675726,26675725,26675724,26675723,26675722,26675721,26675720,26675719,26673028,26673027,26673026,26673025,26673024,26673023,26673022,26673021,26672789,26672788,26672787,26672786,26672785,26672784,26672783,26672782,26672781,26672780,26672779,26672555,26672554,26672553,26672552,26672550,26672549,26672548,26672547,26672546,26672545,26672544,26672543,26672542,26672538,26672537,2667253626672535,26672534,26672533,26672532,26672520,26672519,26672518,26672517,26659189,26659188,26659187,26659186,26659185,26659184,26659183,26659182,26659181,26659179,26659178,26659177,26659176,26659175,26659174,26659173,26659172,26659168,26659167,26659166,26659165,26659164,26659163,26659162,26659161,26659160,26659159,26659158,26659146,26659145,26659144,26659143,26649828,26649827,26649826,26649825,26649824,26649823,26649822,26649821,26649820,26649819,26649818,26641313,26641312,26633771,26633770,26633769,26633768,26633767,26633766,26633765,26633764,26633763,26633636,26633635,26633634,26633633,26633632,26633631,26633630,26633629,26633628,26633627,26633626,26633625,26633624,26633623,26632592,26632591,26632590,26632589,26632588,26632587,26632586,26632584,26632583,26632582,26632581,26632580,26632579,26632578,26632577,26632574,26632573,26632572,26632571,26632570,26632569,26632568,26632567,2663256626632565,26632553,26632552,26632551,26632550,26630600,26630599,26630598,26630597,26630596,26630595,26630594,26630593,26630592,26630591,26630590,26623472,26618871,26618868,26618866,26610025,26610024,26607548,26607547,26607546,26607545,26607544,26607543,26607542,26607541,26607539,26607538,26607537,26607536,26607535,26607534,26607533,26607532,26607529,26607528,26607527,26607526,26607525,26607524,26607523,26607522,26607521,26607520,26607519,26607518,26607506,26607505,26607504,26607503,26605762,26605761,26605533,26605532,26605531,26605530,26605529,26605528,26605527,26605526,26605525,26605524,26605523,26605522,26605521,26595276,26595275,26595274,26595273,26595272,26595271,26594719,26581293,26581292,26581291,26581290,26581288,26581287,26581286,26581285,26581284,26581283,26581282,26581281,26581280,26581279,26581277,26581276,26581275,26581274,26581273,26581271,26581270,26581269,26581268,2658125626581255,26581254,26581253,26580329,26580328,26580327,26580326,26580325,26580324,26580323,26580322,26580321,26580320,26580319,26580163,26580162,26580161,26580160,26580159,26580158,26580157,26580156,26580155,26580154,26580020,26580019,26580018,26580017,26580016,26580015,26580014,26580013,26580012,26580011,26580010,26580009,26580008,26580007,26570999,26570998,26570997,26565047,26560457,26560456,26560455,26560454,26560453,26560452,26560451,26560450,26560302,26560301,26560300,26560299,26560298,26560297,26560295,26560294,26560293,26560292,26560291,26560290,26560289,26560288,26560284,26560283,26560282,26560281,26560279,26560278,26560277,26560276,26560275,26560274,26560263,26560262,26560261,26560260,26560035,26560034,26560033,26560032,26560031,26560030,26560029,26560028,26560027,26560026,26560025,26550828,26550827,26550826,26550825,26550824,26550823,26543932,26536960,26536959,26536958,2653695726536956,26536955,26536954,26536953,26536952,26536951,26536950,26536949,26536948,26536947,26536943,26536942,26536941,26536940,26536939,26536938,26536937,26536936,26536935,26536934,26536933,26536922,26536921,26536920,26536919,26536225,26536224,26536223,26536222,26536221,26536220,26536219,26536218,26536217,26536216,26536215,26536116,26536115,26536114,26536113,26536112,26536111,26536110,26536109,26536108,26536107,26524534,26524533,26524532,26524531,26524530,26524529,26524528,26524527,26524526,26524525,26524524,26524523,26524522,26524521,26524520,26524519,26516640,26511583,26511582,26511580,26511579,26511578,26511576,26511575,26511574,26511573,26511571,26511570,26511569,26511568,26511567,26511563,26511562,26511561,26511560,26511559,26511558,26511557,26511556,26511555,26511554,26511542,26511541,26511540,26511539,26509955,26509954,26509953,26509952,26509951,26509950,26509949,26509948,26509947'"
      ]
     },
     "execution_count": 7,
     "metadata": {},
     "output_type": "execute_result"
    }
   ],
   "source": [
    "article_id_all"
   ]
  },
  {
   "cell_type": "code",
   "execution_count": 10,
   "metadata": {
    "collapsed": false
   },
   "outputs": [
    {
     "data": {
      "text/plain": [
       "u'Colorectal cancer remains a major unmet medical need, prompting large-scale genomics efforts in the field to identify molecular drivers for which targeted therapies might be developed. We previously reported the identification of recurrent translocations in R-spondin genes present in a subset of colorectal tumours. Here we show that targeting RSPO3 in PTPRK-RSPO3-fusion-positive human tumour xenografts inhibits tumour growth and promotes differentiation. Notably, genes expressed in the stem-cell compartment of the intestine were among those most sensitive to anti-RSPO3 treatment. This observation, combined with functional assays, suggests that a stem-cell compartment drives PTPRK-RSPO3 colorectal tumour growth and indicates that the therapeutic targeting of stem-cell properties within tumours may be a clinically relevant approach for the treatment of colorectal tumours.'"
      ]
     },
     "execution_count": 10,
     "metadata": {},
     "output_type": "execute_result"
    }
   ],
   "source": [
    "abstracts[10]"
   ]
  },
  {
   "cell_type": "code",
   "execution_count": null,
   "metadata": {
    "collapsed": true
   },
   "outputs": [],
   "source": []
  }
 ],
 "metadata": {
  "kernelspec": {
   "display_name": "Python 2",
   "language": "python",
   "name": "python2"
  },
  "language_info": {
   "codemirror_mode": {
    "name": "ipython",
    "version": 2
   },
   "file_extension": ".py",
   "mimetype": "text/x-python",
   "name": "python",
   "nbconvert_exporter": "python",
   "pygments_lexer": "ipython2",
   "version": "2.7.11"
  }
 },
 "nbformat": 4,
 "nbformat_minor": 0
}
